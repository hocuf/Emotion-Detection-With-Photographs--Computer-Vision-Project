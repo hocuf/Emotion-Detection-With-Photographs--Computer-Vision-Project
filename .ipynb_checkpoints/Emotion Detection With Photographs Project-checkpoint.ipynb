{
 "cells": [
  {
   "cell_type": "markdown",
   "id": "61095b3f",
   "metadata": {},
   "source": [
    "# Emotion Detection With Photographs Project"
   ]
  },
  {
   "cell_type": "markdown",
   "id": "439a5225",
   "metadata": {},
   "source": [
    "### The goal of this project: To increase the happiness rate of people in businesses, shopping centres, offices or wherever there is a community. With the deepface library, it performs emotional analysis based on 100 photographs taken.\n",
    "\n",
    "\n",
    "\n",
    "**For example:** \n",
    "\n",
    "You entered a concert feeling unhappy. The photos are taken and analysed just before you enter. After the concert, they are taken again and analysed. The difference is determined and the emotional analysis of that concert is made with the absolute majority."
   ]
  },
  {
   "cell_type": "markdown",
   "id": "c93b22bf",
   "metadata": {},
   "source": [
    "## Import Libraries"
   ]
  },
  {
   "cell_type": "code",
   "execution_count": 24,
   "id": "2dfc4962",
   "metadata": {},
   "outputs": [],
   "source": [
    "import cv2\n",
    "import os\n",
    "from deepface import DeepFace\n",
    "import pandas as pd\n",
    "import os\n",
    "\n",
    "import matplotlib.pyplot as plt\n",
    "import seaborn as sns"
   ]
  },
  {
   "cell_type": "markdown",
   "id": "6b2b441c",
   "metadata": {},
   "source": [
    "## 100 Photos Shoot"
   ]
  },
  {
   "cell_type": "code",
   "execution_count": 1,
   "id": "4dc4d254",
   "metadata": {},
   "outputs": [
    {
     "name": "stdout",
     "output_type": "stream",
     "text": [
      "Görüntü alınamadı!\n"
     ]
    }
   ],
   "source": [
    "# Start the camera\n",
    "cap = cv2.VideoCapture(0)\n",
    "\n",
    "if not cap.isOpened():\n",
    "    print(\"Camera is Out!\")\n",
    "    exit()\n",
    "\n",
    "# CLoad the face detection model\n",
    "face_cascade = cv2.CascadeClassifier(cv2.data.haarcascades + \"haarcascade_frontalface_default.xml\")\n",
    "\n",
    "# Counter for the number of photos taken\n",
    "count = 0\n",
    "\n",
    "# Create a folder to save the photos.\n",
    "if not os.path.exists('dataset'):\n",
    "    os.makedirs('dataset')\n",
    "\n",
    "# Continuously capture video frames\n",
    "while True:\n",
    "    # Read the image from the camera\"\n",
    "    ret, frame = cap.read()    \n",
    "    # Resize the frame\n",
    "    scale_percent = 50  # %50 \n",
    "    width = int(frame.shape[1] * scale_percent / 100)\n",
    "    height = int(frame.shape[0] * scale_percent / 100)\n",
    "    dim = (width, height)\n",
    "    \n",
    "    resized = cv2.resize(frame, dim, interpolation = cv2.INTER_AREA)\n",
    "    \n",
    "    # Detect faces in the resized frame\n",
    "    faces = face_cascade.detectMultiScale(resized, 1.3, 5)\n",
    "    \n",
    "    # If a face is detected\n",
    "    if len(faces) > 0:\n",
    "        # Draw a rectangle around each face\n",
    "        for (x, y, w, h) in faces:\n",
    "            cv2.rectangle(resized, (x, y), (x+w, y+h), (0, 255, 0), 2)\n",
    "            \n",
    "            # Take a photo of the face\n",
    "            count += 1\n",
    "            cv2.imwrite(\"dataset/user.\" + str(count) + \".jpg\", resized[y:y+h,x:x+w])\n",
    "            \n",
    "            # If 100 photos have been taken, exit the program\n",
    "            if count == 100:\n",
    "                cap.release()\n",
    "                cv2.destroyAllWindows()\n",
    "                exit()\n",
    "    \n",
    "    # Display the frame on the screen\n",
    "    cv2.imshow('frame', resized)\n",
    "    \n",
    "    # Exit the program if the 'q' key is pressed\n",
    "    if cv2.waitKey(1) & 0xFF == ord('q'):\n",
    "        break\n",
    "\n",
    "# Release the camera and close the window\n",
    "cap.release()\n",
    "cv2.destroyAllWindows()\n"
   ]
  },
  {
   "cell_type": "markdown",
   "id": "4f43cd7b",
   "metadata": {},
   "source": [
    "## Photos Emotion Analysis"
   ]
  },
  {
   "cell_type": "code",
   "execution_count": 2,
   "id": "09921a58",
   "metadata": {
    "scrolled": true
   },
   "outputs": [
    {
     "name": "stdout",
     "output_type": "stream",
     "text": [
      "Processing: dataset/user.1.jpg\n"
     ]
    },
    {
     "name": "stderr",
     "output_type": "stream",
     "text": [
      "Action: race: 100%|██████████| 4/4 [00:03<00:00,  1.17it/s]   \n"
     ]
    },
    {
     "name": "stdout",
     "output_type": "stream",
     "text": [
      "Processing: dataset/user.10.jpg\n"
     ]
    },
    {
     "name": "stderr",
     "output_type": "stream",
     "text": [
      "Action: race: 100%|██████████| 4/4 [00:01<00:00,  2.76it/s]   \n"
     ]
    },
    {
     "name": "stdout",
     "output_type": "stream",
     "text": [
      "Processing: dataset/user.11.jpg\n"
     ]
    },
    {
     "name": "stderr",
     "output_type": "stream",
     "text": [
      "Action: race: 100%|██████████| 4/4 [00:01<00:00,  2.85it/s]   \n"
     ]
    },
    {
     "name": "stdout",
     "output_type": "stream",
     "text": [
      "Processing: dataset/user.12.jpg\n"
     ]
    },
    {
     "name": "stderr",
     "output_type": "stream",
     "text": [
      "Action: race: 100%|██████████| 4/4 [00:01<00:00,  2.86it/s]   \n"
     ]
    },
    {
     "name": "stdout",
     "output_type": "stream",
     "text": [
      "Processing: dataset/user.13.jpg\n"
     ]
    },
    {
     "name": "stderr",
     "output_type": "stream",
     "text": [
      "Action: race: 100%|██████████| 4/4 [00:01<00:00,  2.72it/s]   \n"
     ]
    },
    {
     "name": "stdout",
     "output_type": "stream",
     "text": [
      "Processing: dataset/user.14.jpg\n"
     ]
    },
    {
     "name": "stderr",
     "output_type": "stream",
     "text": [
      "Action: race: 100%|██████████| 4/4 [00:01<00:00,  2.55it/s]   \n"
     ]
    },
    {
     "name": "stdout",
     "output_type": "stream",
     "text": [
      "Processing: dataset/user.15.jpg\n"
     ]
    },
    {
     "name": "stderr",
     "output_type": "stream",
     "text": [
      "Action: race: 100%|██████████| 4/4 [00:01<00:00,  2.48it/s]   \n"
     ]
    },
    {
     "name": "stdout",
     "output_type": "stream",
     "text": [
      "Processing: dataset/user.16.jpg\n"
     ]
    },
    {
     "name": "stderr",
     "output_type": "stream",
     "text": [
      "Action: race: 100%|██████████| 4/4 [00:01<00:00,  2.45it/s]   \n"
     ]
    },
    {
     "name": "stdout",
     "output_type": "stream",
     "text": [
      "Processing: dataset/user.17.jpg\n"
     ]
    },
    {
     "name": "stderr",
     "output_type": "stream",
     "text": [
      "Action: race: 100%|██████████| 4/4 [00:01<00:00,  2.49it/s]   \n"
     ]
    },
    {
     "name": "stdout",
     "output_type": "stream",
     "text": [
      "Processing: dataset/user.18.jpg\n"
     ]
    },
    {
     "name": "stderr",
     "output_type": "stream",
     "text": [
      "Action: race: 100%|██████████| 4/4 [00:01<00:00,  2.44it/s]   \n"
     ]
    },
    {
     "name": "stdout",
     "output_type": "stream",
     "text": [
      "Processing: dataset/user.19.jpg\n"
     ]
    },
    {
     "name": "stderr",
     "output_type": "stream",
     "text": [
      "Action: race: 100%|██████████| 4/4 [00:01<00:00,  2.39it/s]   \n"
     ]
    },
    {
     "name": "stdout",
     "output_type": "stream",
     "text": [
      "Processing: dataset/user.2.jpg\n"
     ]
    },
    {
     "name": "stderr",
     "output_type": "stream",
     "text": [
      "Action: race: 100%|██████████| 4/4 [00:01<00:00,  2.65it/s]   \n"
     ]
    },
    {
     "name": "stdout",
     "output_type": "stream",
     "text": [
      "Processing: dataset/user.20.jpg\n"
     ]
    },
    {
     "name": "stderr",
     "output_type": "stream",
     "text": [
      "Action: race: 100%|██████████| 4/4 [00:01<00:00,  2.88it/s]   \n"
     ]
    },
    {
     "name": "stdout",
     "output_type": "stream",
     "text": [
      "Processing: dataset/user.21.jpg\n"
     ]
    },
    {
     "name": "stderr",
     "output_type": "stream",
     "text": [
      "Action: race: 100%|██████████| 4/4 [00:01<00:00,  2.88it/s]   \n"
     ]
    },
    {
     "name": "stdout",
     "output_type": "stream",
     "text": [
      "Processing: dataset/user.22.jpg\n"
     ]
    },
    {
     "name": "stderr",
     "output_type": "stream",
     "text": [
      "Action: race: 100%|██████████| 4/4 [00:01<00:00,  2.83it/s]   \n"
     ]
    },
    {
     "name": "stdout",
     "output_type": "stream",
     "text": [
      "Processing: dataset/user.23.jpg\n"
     ]
    },
    {
     "name": "stderr",
     "output_type": "stream",
     "text": [
      "Action: race: 100%|██████████| 4/4 [00:01<00:00,  2.56it/s]   \n"
     ]
    },
    {
     "name": "stdout",
     "output_type": "stream",
     "text": [
      "Processing: dataset/user.24.jpg\n"
     ]
    },
    {
     "name": "stderr",
     "output_type": "stream",
     "text": [
      "Action: race: 100%|██████████| 4/4 [00:01<00:00,  2.44it/s]   \n"
     ]
    },
    {
     "name": "stdout",
     "output_type": "stream",
     "text": [
      "Processing: dataset/user.25.jpg\n"
     ]
    },
    {
     "name": "stderr",
     "output_type": "stream",
     "text": [
      "Action: race: 100%|██████████| 4/4 [00:01<00:00,  2.43it/s]   \n"
     ]
    },
    {
     "name": "stdout",
     "output_type": "stream",
     "text": [
      "Processing: dataset/user.26.jpg\n"
     ]
    },
    {
     "name": "stderr",
     "output_type": "stream",
     "text": [
      "Action: race: 100%|██████████| 4/4 [00:01<00:00,  2.46it/s]   \n"
     ]
    },
    {
     "name": "stdout",
     "output_type": "stream",
     "text": [
      "Processing: dataset/user.27.jpg\n"
     ]
    },
    {
     "name": "stderr",
     "output_type": "stream",
     "text": [
      "Action: race: 100%|██████████| 4/4 [00:01<00:00,  2.42it/s]   \n"
     ]
    },
    {
     "name": "stdout",
     "output_type": "stream",
     "text": [
      "Processing: dataset/user.28.jpg\n"
     ]
    },
    {
     "name": "stderr",
     "output_type": "stream",
     "text": [
      "Action: race: 100%|██████████| 4/4 [00:01<00:00,  2.47it/s]   \n"
     ]
    },
    {
     "name": "stdout",
     "output_type": "stream",
     "text": [
      "Processing: dataset/user.29.jpg\n"
     ]
    },
    {
     "name": "stderr",
     "output_type": "stream",
     "text": [
      "Action: race: 100%|██████████| 4/4 [00:01<00:00,  2.72it/s]   \n"
     ]
    },
    {
     "name": "stdout",
     "output_type": "stream",
     "text": [
      "Processing: dataset/user.3.jpg\n"
     ]
    },
    {
     "name": "stderr",
     "output_type": "stream",
     "text": [
      "Action: race: 100%|██████████| 4/4 [00:01<00:00,  2.39it/s]   \n"
     ]
    },
    {
     "name": "stdout",
     "output_type": "stream",
     "text": [
      "Processing: dataset/user.30.jpg\n"
     ]
    },
    {
     "name": "stderr",
     "output_type": "stream",
     "text": [
      "Action: race: 100%|██████████| 4/4 [00:01<00:00,  2.66it/s]   \n"
     ]
    },
    {
     "name": "stdout",
     "output_type": "stream",
     "text": [
      "Processing: dataset/user.31.jpg\n"
     ]
    },
    {
     "name": "stderr",
     "output_type": "stream",
     "text": [
      "Action: race: 100%|██████████| 4/4 [00:01<00:00,  2.52it/s]   \n"
     ]
    },
    {
     "name": "stdout",
     "output_type": "stream",
     "text": [
      "Processing: dataset/user.32.jpg\n"
     ]
    },
    {
     "name": "stderr",
     "output_type": "stream",
     "text": [
      "Action: race: 100%|██████████| 4/4 [00:01<00:00,  2.46it/s]   \n"
     ]
    },
    {
     "name": "stdout",
     "output_type": "stream",
     "text": [
      "Processing: dataset/user.33.jpg\n"
     ]
    },
    {
     "name": "stderr",
     "output_type": "stream",
     "text": [
      "Action: race: 100%|██████████| 4/4 [00:01<00:00,  2.41it/s]   \n"
     ]
    },
    {
     "name": "stdout",
     "output_type": "stream",
     "text": [
      "Processing: dataset/user.34.jpg\n"
     ]
    },
    {
     "name": "stderr",
     "output_type": "stream",
     "text": [
      "Action: race: 100%|██████████| 4/4 [00:01<00:00,  2.43it/s]   \n"
     ]
    },
    {
     "name": "stdout",
     "output_type": "stream",
     "text": [
      "Processing: dataset/user.35.jpg\n"
     ]
    },
    {
     "name": "stderr",
     "output_type": "stream",
     "text": [
      "Action: race: 100%|██████████| 4/4 [00:01<00:00,  2.46it/s]   \n"
     ]
    },
    {
     "name": "stdout",
     "output_type": "stream",
     "text": [
      "Processing: dataset/user.36.jpg\n"
     ]
    },
    {
     "name": "stderr",
     "output_type": "stream",
     "text": [
      "Action: race: 100%|██████████| 4/4 [00:01<00:00,  2.42it/s]   \n"
     ]
    },
    {
     "name": "stdout",
     "output_type": "stream",
     "text": [
      "Processing: dataset/user.37.jpg\n"
     ]
    },
    {
     "name": "stderr",
     "output_type": "stream",
     "text": [
      "Action: race: 100%|██████████| 4/4 [00:01<00:00,  2.46it/s]   \n"
     ]
    },
    {
     "name": "stdout",
     "output_type": "stream",
     "text": [
      "Processing: dataset/user.38.jpg\n"
     ]
    },
    {
     "name": "stderr",
     "output_type": "stream",
     "text": [
      "Action: race: 100%|██████████| 4/4 [00:01<00:00,  2.69it/s]   \n"
     ]
    },
    {
     "name": "stdout",
     "output_type": "stream",
     "text": [
      "Processing: dataset/user.39.jpg\n"
     ]
    },
    {
     "name": "stderr",
     "output_type": "stream",
     "text": [
      "Action: race: 100%|██████████| 4/4 [00:01<00:00,  2.71it/s]   \n"
     ]
    },
    {
     "name": "stdout",
     "output_type": "stream",
     "text": [
      "Processing: dataset/user.4.jpg\n"
     ]
    },
    {
     "name": "stderr",
     "output_type": "stream",
     "text": [
      "Action: race: 100%|██████████| 4/4 [00:01<00:00,  2.71it/s]   \n"
     ]
    },
    {
     "name": "stdout",
     "output_type": "stream",
     "text": [
      "Processing: dataset/user.40.jpg\n"
     ]
    },
    {
     "name": "stderr",
     "output_type": "stream",
     "text": [
      "Action: race: 100%|██████████| 4/4 [00:01<00:00,  2.56it/s]   \n"
     ]
    },
    {
     "name": "stdout",
     "output_type": "stream",
     "text": [
      "Processing: dataset/user.41.jpg\n"
     ]
    },
    {
     "name": "stderr",
     "output_type": "stream",
     "text": [
      "Action: race: 100%|██████████| 4/4 [00:01<00:00,  2.73it/s]   \n"
     ]
    },
    {
     "name": "stdout",
     "output_type": "stream",
     "text": [
      "Processing: dataset/user.42.jpg\n"
     ]
    },
    {
     "name": "stderr",
     "output_type": "stream",
     "text": [
      "Action: race: 100%|██████████| 4/4 [00:01<00:00,  2.66it/s]   \n"
     ]
    },
    {
     "name": "stdout",
     "output_type": "stream",
     "text": [
      "Processing: dataset/user.43.jpg\n"
     ]
    },
    {
     "name": "stderr",
     "output_type": "stream",
     "text": [
      "Action: race: 100%|██████████| 4/4 [00:01<00:00,  2.54it/s]   \n"
     ]
    },
    {
     "name": "stdout",
     "output_type": "stream",
     "text": [
      "Processing: dataset/user.44.jpg\n"
     ]
    },
    {
     "name": "stderr",
     "output_type": "stream",
     "text": [
      "Action: race: 100%|██████████| 4/4 [00:01<00:00,  2.54it/s]   \n"
     ]
    },
    {
     "name": "stdout",
     "output_type": "stream",
     "text": [
      "Processing: dataset/user.45.jpg\n"
     ]
    },
    {
     "name": "stderr",
     "output_type": "stream",
     "text": [
      "Action: race: 100%|██████████| 4/4 [00:01<00:00,  2.60it/s]   \n"
     ]
    },
    {
     "name": "stdout",
     "output_type": "stream",
     "text": [
      "Processing: dataset/user.46.jpg\n"
     ]
    },
    {
     "name": "stderr",
     "output_type": "stream",
     "text": [
      "Action: race: 100%|██████████| 4/4 [00:01<00:00,  2.55it/s]   \n"
     ]
    },
    {
     "name": "stdout",
     "output_type": "stream",
     "text": [
      "Processing: dataset/user.47.jpg\n"
     ]
    },
    {
     "name": "stderr",
     "output_type": "stream",
     "text": [
      "Action: race: 100%|██████████| 4/4 [00:01<00:00,  2.60it/s]   \n"
     ]
    },
    {
     "name": "stdout",
     "output_type": "stream",
     "text": [
      "Processing: dataset/user.48.jpg\n"
     ]
    },
    {
     "name": "stderr",
     "output_type": "stream",
     "text": [
      "Action: race: 100%|██████████| 4/4 [00:01<00:00,  2.74it/s]   \n"
     ]
    },
    {
     "name": "stdout",
     "output_type": "stream",
     "text": [
      "Processing: dataset/user.49.jpg\n"
     ]
    },
    {
     "name": "stderr",
     "output_type": "stream",
     "text": [
      "Action: race: 100%|██████████| 4/4 [00:01<00:00,  2.62it/s]   \n"
     ]
    },
    {
     "name": "stdout",
     "output_type": "stream",
     "text": [
      "Processing: dataset/user.5.jpg\n"
     ]
    },
    {
     "name": "stderr",
     "output_type": "stream",
     "text": [
      "Action: race: 100%|██████████| 4/4 [00:01<00:00,  2.55it/s]   \n"
     ]
    },
    {
     "name": "stdout",
     "output_type": "stream",
     "text": [
      "Processing: dataset/user.50.jpg\n"
     ]
    },
    {
     "name": "stderr",
     "output_type": "stream",
     "text": [
      "Action: race: 100%|██████████| 4/4 [00:01<00:00,  2.46it/s]   \n"
     ]
    },
    {
     "name": "stdout",
     "output_type": "stream",
     "text": [
      "Processing: dataset/user.6.jpg\n"
     ]
    },
    {
     "name": "stderr",
     "output_type": "stream",
     "text": [
      "Action: race: 100%|██████████| 4/4 [00:01<00:00,  2.46it/s]   \n"
     ]
    },
    {
     "name": "stdout",
     "output_type": "stream",
     "text": [
      "Processing: dataset/user.7.jpg\n"
     ]
    },
    {
     "name": "stderr",
     "output_type": "stream",
     "text": [
      "Action: race: 100%|██████████| 4/4 [00:01<00:00,  2.46it/s]   \n"
     ]
    },
    {
     "name": "stdout",
     "output_type": "stream",
     "text": [
      "Processing: dataset/user.8.jpg\n"
     ]
    },
    {
     "name": "stderr",
     "output_type": "stream",
     "text": [
      "Action: race: 100%|██████████| 4/4 [00:01<00:00,  2.45it/s]   \n"
     ]
    },
    {
     "name": "stdout",
     "output_type": "stream",
     "text": [
      "Processing: dataset/user.9.jpg\n"
     ]
    },
    {
     "name": "stderr",
     "output_type": "stream",
     "text": [
      "Action: race: 100%|██████████| 4/4 [00:01<00:00,  2.43it/s]   \n"
     ]
    }
   ],
   "source": [
    "# Get the names of all photos in the dataset folder\n",
    "img_dir = \"dataset/\"\n",
    "img_paths = [os.path.join(img_dir, f) for f in os.listdir(img_dir)]\n",
    "\n",
    "# Analyze faces with DeepFace and store results in a list\n",
    "metrics = [\"age\", \"gender\", \"race\", \"emotion\"]\n",
    "results = []\n",
    "for img_path in img_paths:\n",
    "    print(\"Processing:\", img_path)\n",
    "    img_result = DeepFace.analyze(img_path, enforce_detection=False)\n",
    "    results.append(img_result)\n",
    "\n",
    "# Save the results in a pandas dataframe\n",
    "df = pd.DataFrame(results, index=[os.path.basename(p) for p in img_paths])\n"
   ]
  },
  {
   "cell_type": "markdown",
   "id": "3b86854a",
   "metadata": {},
   "source": [
    "## Exploratory Data Analysis - Feature Engineering"
   ]
  },
  {
   "cell_type": "code",
   "execution_count": 3,
   "id": "8b28927e",
   "metadata": {
    "scrolled": true
   },
   "outputs": [
    {
     "data": {
      "text/html": [
       "<div>\n",
       "<style scoped>\n",
       "    .dataframe tbody tr th:only-of-type {\n",
       "        vertical-align: middle;\n",
       "    }\n",
       "\n",
       "    .dataframe tbody tr th {\n",
       "        vertical-align: top;\n",
       "    }\n",
       "\n",
       "    .dataframe thead th {\n",
       "        text-align: right;\n",
       "    }\n",
       "</style>\n",
       "<table border=\"1\" class=\"dataframe\">\n",
       "  <thead>\n",
       "    <tr style=\"text-align: right;\">\n",
       "      <th></th>\n",
       "      <th>0</th>\n",
       "    </tr>\n",
       "  </thead>\n",
       "  <tbody>\n",
       "    <tr>\n",
       "      <th>user.1.jpg</th>\n",
       "      <td>{'emotion': {'angry': 0.00010081648724735714, ...</td>\n",
       "    </tr>\n",
       "    <tr>\n",
       "      <th>user.10.jpg</th>\n",
       "      <td>{'emotion': {'angry': 0.06534848747345955, 'di...</td>\n",
       "    </tr>\n",
       "    <tr>\n",
       "      <th>user.11.jpg</th>\n",
       "      <td>{'emotion': {'angry': 0.06534848747345955, 'di...</td>\n",
       "    </tr>\n",
       "    <tr>\n",
       "      <th>user.12.jpg</th>\n",
       "      <td>{'emotion': {'angry': 0.0019737159163923934, '...</td>\n",
       "    </tr>\n",
       "    <tr>\n",
       "      <th>user.13.jpg</th>\n",
       "      <td>{'emotion': {'angry': 0.0019737159163923934, '...</td>\n",
       "    </tr>\n",
       "  </tbody>\n",
       "</table>\n",
       "</div>"
      ],
      "text/plain": [
       "                                                             0\n",
       "user.1.jpg   {'emotion': {'angry': 0.00010081648724735714, ...\n",
       "user.10.jpg  {'emotion': {'angry': 0.06534848747345955, 'di...\n",
       "user.11.jpg  {'emotion': {'angry': 0.06534848747345955, 'di...\n",
       "user.12.jpg  {'emotion': {'angry': 0.0019737159163923934, '...\n",
       "user.13.jpg  {'emotion': {'angry': 0.0019737159163923934, '..."
      ]
     },
     "execution_count": 3,
     "metadata": {},
     "output_type": "execute_result"
    }
   ],
   "source": [
    "df.head()"
   ]
  },
  {
   "cell_type": "code",
   "execution_count": 4,
   "id": "53746d3c",
   "metadata": {},
   "outputs": [],
   "source": [
    "df.columns = [\"image\"] + list(df.columns[1:])"
   ]
  },
  {
   "cell_type": "code",
   "execution_count": 5,
   "id": "1318edd5",
   "metadata": {},
   "outputs": [
    {
     "data": {
      "text/plain": [
       "{'emotion': {'angry': 0.00010081648724735714,\n",
       "  'disgust': 5.700986904777494e-08,\n",
       "  'fear': 0.00034163103919127025,\n",
       "  'happy': 77.20711827278137,\n",
       "  'sad': 0.011448271834524348,\n",
       "  'surprise': 0.02436031209072098,\n",
       "  'neutral': 22.756634652614594},\n",
       " 'dominant_emotion': 'happy',\n",
       " 'region': {'x': 6, 'y': 7, 'w': 96, 'h': 96},\n",
       " 'age': 26,\n",
       " 'gender': {'Woman': 0.011295860895188525, 'Man': 99.98869895935059},\n",
       " 'dominant_gender': 'Man',\n",
       " 'race': {'asian': 6.845379620790482,\n",
       "  'indian': 11.955176293849945,\n",
       "  'black': 2.5735516101121902,\n",
       "  'white': 20.54681032896042,\n",
       "  'middle eastern': 21.290323138237,\n",
       "  'latino hispanic': 36.788758635520935},\n",
       " 'dominant_race': 'latino hispanic'}"
      ]
     },
     "execution_count": 5,
     "metadata": {},
     "output_type": "execute_result"
    }
   ],
   "source": [
    "df[\"image\"][0]"
   ]
  },
  {
   "cell_type": "code",
   "execution_count": 6,
   "id": "c4f695da",
   "metadata": {},
   "outputs": [
    {
     "data": {
      "text/html": [
       "<div>\n",
       "<style scoped>\n",
       "    .dataframe tbody tr th:only-of-type {\n",
       "        vertical-align: middle;\n",
       "    }\n",
       "\n",
       "    .dataframe tbody tr th {\n",
       "        vertical-align: top;\n",
       "    }\n",
       "\n",
       "    .dataframe thead th {\n",
       "        text-align: right;\n",
       "    }\n",
       "</style>\n",
       "<table border=\"1\" class=\"dataframe\">\n",
       "  <thead>\n",
       "    <tr style=\"text-align: right;\">\n",
       "      <th></th>\n",
       "      <th>angry</th>\n",
       "      <th>disgust</th>\n",
       "      <th>fear</th>\n",
       "      <th>happy</th>\n",
       "      <th>sad</th>\n",
       "      <th>surprise</th>\n",
       "      <th>neutral</th>\n",
       "      <th>dominant_emotion</th>\n",
       "      <th>age</th>\n",
       "      <th>woman</th>\n",
       "      <th>man</th>\n",
       "      <th>dominant_gender</th>\n",
       "      <th>asian</th>\n",
       "      <th>indian</th>\n",
       "      <th>black</th>\n",
       "      <th>white</th>\n",
       "      <th>middle_eastern</th>\n",
       "      <th>latino_hispanic</th>\n",
       "      <th>dominant_race</th>\n",
       "    </tr>\n",
       "  </thead>\n",
       "  <tbody>\n",
       "    <tr>\n",
       "      <th>user.1.jpg</th>\n",
       "      <td>0.000101</td>\n",
       "      <td>5.700987e-08</td>\n",
       "      <td>0.000342</td>\n",
       "      <td>77.207118</td>\n",
       "      <td>0.011448</td>\n",
       "      <td>0.024360</td>\n",
       "      <td>22.756635</td>\n",
       "      <td>happy</td>\n",
       "      <td>26</td>\n",
       "      <td>0.011296</td>\n",
       "      <td>99.988699</td>\n",
       "      <td>Man</td>\n",
       "      <td>6.845380</td>\n",
       "      <td>11.955176</td>\n",
       "      <td>2.573552</td>\n",
       "      <td>20.546810</td>\n",
       "      <td>21.290323</td>\n",
       "      <td>36.788759</td>\n",
       "      <td>latino hispanic</td>\n",
       "    </tr>\n",
       "    <tr>\n",
       "      <th>user.10.jpg</th>\n",
       "      <td>0.065348</td>\n",
       "      <td>2.787553e-04</td>\n",
       "      <td>2.466251</td>\n",
       "      <td>91.529758</td>\n",
       "      <td>3.347246</td>\n",
       "      <td>0.101582</td>\n",
       "      <td>2.489530</td>\n",
       "      <td>happy</td>\n",
       "      <td>24</td>\n",
       "      <td>0.004001</td>\n",
       "      <td>99.995995</td>\n",
       "      <td>Man</td>\n",
       "      <td>2.588655</td>\n",
       "      <td>8.746041</td>\n",
       "      <td>0.971190</td>\n",
       "      <td>23.075022</td>\n",
       "      <td>31.236890</td>\n",
       "      <td>33.382207</td>\n",
       "      <td>latino hispanic</td>\n",
       "    </tr>\n",
       "    <tr>\n",
       "      <th>user.11.jpg</th>\n",
       "      <td>0.065348</td>\n",
       "      <td>2.787553e-04</td>\n",
       "      <td>2.466251</td>\n",
       "      <td>91.529758</td>\n",
       "      <td>3.347246</td>\n",
       "      <td>0.101582</td>\n",
       "      <td>2.489530</td>\n",
       "      <td>happy</td>\n",
       "      <td>24</td>\n",
       "      <td>0.004001</td>\n",
       "      <td>99.995995</td>\n",
       "      <td>Man</td>\n",
       "      <td>2.588655</td>\n",
       "      <td>8.746041</td>\n",
       "      <td>0.971190</td>\n",
       "      <td>23.075022</td>\n",
       "      <td>31.236890</td>\n",
       "      <td>33.382207</td>\n",
       "      <td>latino hispanic</td>\n",
       "    </tr>\n",
       "    <tr>\n",
       "      <th>user.12.jpg</th>\n",
       "      <td>0.001974</td>\n",
       "      <td>5.863355e-07</td>\n",
       "      <td>0.086932</td>\n",
       "      <td>99.524516</td>\n",
       "      <td>0.185989</td>\n",
       "      <td>0.010216</td>\n",
       "      <td>0.190369</td>\n",
       "      <td>happy</td>\n",
       "      <td>23</td>\n",
       "      <td>0.009474</td>\n",
       "      <td>99.990523</td>\n",
       "      <td>Man</td>\n",
       "      <td>1.976091</td>\n",
       "      <td>9.427511</td>\n",
       "      <td>0.599483</td>\n",
       "      <td>19.992239</td>\n",
       "      <td>36.278062</td>\n",
       "      <td>31.726613</td>\n",
       "      <td>middle eastern</td>\n",
       "    </tr>\n",
       "    <tr>\n",
       "      <th>user.13.jpg</th>\n",
       "      <td>0.001974</td>\n",
       "      <td>5.863355e-07</td>\n",
       "      <td>0.086932</td>\n",
       "      <td>99.524516</td>\n",
       "      <td>0.185989</td>\n",
       "      <td>0.010216</td>\n",
       "      <td>0.190369</td>\n",
       "      <td>happy</td>\n",
       "      <td>23</td>\n",
       "      <td>0.009474</td>\n",
       "      <td>99.990523</td>\n",
       "      <td>Man</td>\n",
       "      <td>1.976091</td>\n",
       "      <td>9.427511</td>\n",
       "      <td>0.599483</td>\n",
       "      <td>19.992239</td>\n",
       "      <td>36.278062</td>\n",
       "      <td>31.726613</td>\n",
       "      <td>middle eastern</td>\n",
       "    </tr>\n",
       "  </tbody>\n",
       "</table>\n",
       "</div>"
      ],
      "text/plain": [
       "                angry       disgust      fear      happy       sad  surprise  \\\n",
       "user.1.jpg   0.000101  5.700987e-08  0.000342  77.207118  0.011448  0.024360   \n",
       "user.10.jpg  0.065348  2.787553e-04  2.466251  91.529758  3.347246  0.101582   \n",
       "user.11.jpg  0.065348  2.787553e-04  2.466251  91.529758  3.347246  0.101582   \n",
       "user.12.jpg  0.001974  5.863355e-07  0.086932  99.524516  0.185989  0.010216   \n",
       "user.13.jpg  0.001974  5.863355e-07  0.086932  99.524516  0.185989  0.010216   \n",
       "\n",
       "               neutral dominant_emotion  age     woman        man  \\\n",
       "user.1.jpg   22.756635            happy   26  0.011296  99.988699   \n",
       "user.10.jpg   2.489530            happy   24  0.004001  99.995995   \n",
       "user.11.jpg   2.489530            happy   24  0.004001  99.995995   \n",
       "user.12.jpg   0.190369            happy   23  0.009474  99.990523   \n",
       "user.13.jpg   0.190369            happy   23  0.009474  99.990523   \n",
       "\n",
       "            dominant_gender     asian     indian     black      white  \\\n",
       "user.1.jpg              Man  6.845380  11.955176  2.573552  20.546810   \n",
       "user.10.jpg             Man  2.588655   8.746041  0.971190  23.075022   \n",
       "user.11.jpg             Man  2.588655   8.746041  0.971190  23.075022   \n",
       "user.12.jpg             Man  1.976091   9.427511  0.599483  19.992239   \n",
       "user.13.jpg             Man  1.976091   9.427511  0.599483  19.992239   \n",
       "\n",
       "             middle_eastern  latino_hispanic    dominant_race  \n",
       "user.1.jpg        21.290323        36.788759  latino hispanic  \n",
       "user.10.jpg       31.236890        33.382207  latino hispanic  \n",
       "user.11.jpg       31.236890        33.382207  latino hispanic  \n",
       "user.12.jpg       36.278062        31.726613   middle eastern  \n",
       "user.13.jpg       36.278062        31.726613   middle eastern  "
      ]
     },
     "execution_count": 6,
     "metadata": {},
     "output_type": "execute_result"
    }
   ],
   "source": [
    "df[[\"angry\", \"disgust\", \"fear\", \"happy\", \"sad\", \"surprise\", \"neutral\"]] = df[\"image\"].apply(lambda x: pd.Series(x[\"emotion\"]))\n",
    "df[[\"dominant_emotion\"]] = df[\"image\"].apply(lambda x: pd.Series(x[\"dominant_emotion\"]))\n",
    "df[[\"age\"]] = df[\"image\"].apply(lambda x: pd.Series(x[\"age\"]))\n",
    "df[[\"woman\", \"man\"]] = df[\"image\"].apply(lambda x: pd.Series(x[\"gender\"]))\n",
    "df[[\"dominant_gender\"]] = df[\"image\"].apply(lambda x: pd.Series(x[\"dominant_gender\"]))\n",
    "df[[\"asian\", \"indian\", \"black\", \"white\", \"middle_eastern\", \"latino_hispanic\"]] = df[\"image\"].apply(lambda x: pd.Series(x[\"race\"]))\n",
    "df[[\"dominant_race\"]] = df[\"image\"].apply(lambda x: pd.Series(x[\"dominant_race\"]))\n",
    "df = df.drop([\"image\"], axis=1)\n",
    "df.head()"
   ]
  },
  {
   "cell_type": "code",
   "execution_count": 7,
   "id": "280b3918",
   "metadata": {},
   "outputs": [
    {
     "data": {
      "text/plain": [
       "Index(['angry', 'disgust', 'fear', 'happy', 'sad', 'surprise', 'neutral',\n",
       "       'dominant_emotion', 'age', 'woman', 'man', 'dominant_gender', 'asian',\n",
       "       'indian', 'black', 'white', 'middle_eastern', 'latino_hispanic',\n",
       "       'dominant_race'],\n",
       "      dtype='object')"
      ]
     },
     "execution_count": 7,
     "metadata": {},
     "output_type": "execute_result"
    }
   ],
   "source": [
    "df.columns"
   ]
  },
  {
   "cell_type": "code",
   "execution_count": 16,
   "id": "e0c96e95",
   "metadata": {},
   "outputs": [
    {
     "data": {
      "text/plain": [
       "happy    50\n",
       "Name: dominant_emotion, dtype: int64"
      ]
     },
     "execution_count": 16,
     "metadata": {},
     "output_type": "execute_result"
    }
   ],
   "source": [
    "word_counts = df['dominant_emotion'].value_counts()\n",
    "word_counts"
   ]
  },
  {
   "cell_type": "code",
   "execution_count": 18,
   "id": "0eef13bc",
   "metadata": {},
   "outputs": [
    {
     "data": {
      "text/plain": [
       "array(['happy'], dtype=object)"
      ]
     },
     "execution_count": 18,
     "metadata": {},
     "output_type": "execute_result"
    }
   ],
   "source": [
    "df['dominant_emotion'].unique()"
   ]
  },
  {
   "cell_type": "code",
   "execution_count": 20,
   "id": "a74a318f",
   "metadata": {},
   "outputs": [],
   "source": [
    "wrd_cnt = df['dominant_emotion'].value_counts().idxmax()\n",
    "dom_rac = df[\"dominant_race\"].value_counts().idxmax()\n",
    "avr_age = df[\"age\"].mean()"
   ]
  },
  {
   "cell_type": "markdown",
   "id": "b152bd85",
   "metadata": {},
   "source": [
    "## Visualization"
   ]
  },
  {
   "cell_type": "code",
   "execution_count": 25,
   "id": "decfd4d9",
   "metadata": {},
   "outputs": [
    {
     "data": {
      "text/plain": [
       "<Axes: xlabel='dominant_emotion', ylabel='count'>"
      ]
     },
     "execution_count": 25,
     "metadata": {},
     "output_type": "execute_result"
    },
    {
     "data": {
      "image/png": "[encoded data removed]",
      "text/plain": [
       "<Figure size 640x480 with 1 Axes>"
      ]
     },
     "metadata": {},
     "output_type": "display_data"
    }
   ],
   "source": [
    "sns.countplot(x=df[\"dominant_emotion\"])"
   ]
  },
  {
   "cell_type": "code",
   "execution_count": 38,
   "id": "e9bad192",
   "metadata": {},
   "outputs": [
    {
     "data": {
      "text/plain": [
       "<Axes: xlabel='happy', ylabel='sad'>"
      ]
     },
     "execution_count": 38,
     "metadata": {},
     "output_type": "execute_result"
    },
    {
     "data": {
      "image/png": "[encoded data removed]",
      "text/plain": [
       "<Figure size 640x480 with 1 Axes>"
      ]
     },
     "metadata": {},
     "output_type": "display_data"
    }
   ],
   "source": [
    "sns.boxplot(x=df[\"happy\"],y=df[\"sad\"])"
   ]
  },
  {
   "cell_type": "code",
   "execution_count": 40,
   "id": "1faf21da",
   "metadata": {},
   "outputs": [
    {
     "data": {
      "text/plain": [
       "<Axes: xlabel='happy', ylabel='sad'>"
      ]
     },
     "execution_count": 40,
     "metadata": {},
     "output_type": "execute_result"
    },
    {
     "data": {
      "image/png": "[encoded data removed]",
      "text/plain": [
       "<Figure size 640x480 with 1 Axes>"
      ]
     },
     "metadata": {},
     "output_type": "display_data"
    }
   ],
   "source": [
    "sns.histplot(x=df[\"happy\"],y=df[\"sad\"])"
   ]
  },
  {
   "cell_type": "code",
   "execution_count": 26,
   "id": "28b73b47",
   "metadata": {},
   "outputs": [
    {
     "data": {
      "text/plain": [
       "<Axes: xlabel='dominant_race', ylabel='count'>"
      ]
     },
     "execution_count": 26,
     "metadata": {},
     "output_type": "execute_result"
    },
    {
     "data": {
      "image/png": "[encoded data removed]",
      "text/plain": [
       "<Figure size 640x480 with 1 Axes>"
      ]
     },
     "metadata": {},
     "output_type": "display_data"
    }
   ],
   "source": [
    "sns.countplot(x=df[\"dominant_race\"])"
   ]
  },
  {
   "cell_type": "markdown",
   "id": "8da99f97",
   "metadata": {},
   "source": [
    "# YOU"
   ]
  },
  {
   "cell_type": "code",
   "execution_count": 22,
   "id": "9a5dae17",
   "metadata": {},
   "outputs": [
    {
     "name": "stdout",
     "output_type": "stream",
     "text": [
      "You are happy, 24 years old, and you look like middle eastern.\n"
     ]
    }
   ],
   "source": [
    "print(\"You are {0}, {1} years old, and you look like {2}.\".format(wrd_cnt, int(avr_age), dom_rac))"
   ]
  },
  {
   "cell_type": "code",
   "execution_count": null,
   "id": "b9038e16",
   "metadata": {},
   "outputs": [],
   "source": []
  }
 ],
 "metadata": {
  "kernelspec": {
   "display_name": "Python 3 (ipykernel)",
   "language": "python",
   "name": "python3"
  },
  "language_info": {
   "codemirror_mode": {
    "name": "ipython",
    "version": 3
   },
   "file_extension": ".py",
   "mimetype": "text/x-python",
   "name": "python",
   "nbconvert_exporter": "python",
   "pygments_lexer": "ipython3",
   "version": "3.9.16"
  }
 },
 "nbformat": 4,
 "nbformat_minor": 5
}
